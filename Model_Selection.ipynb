{
  "nbformat": 4,
  "nbformat_minor": 0,
  "metadata": {
    "colab": {
      "provenance": []
    },
    "kernelspec": {
      "name": "python3",
      "display_name": "Python 3"
    },
    "language_info": {
      "name": "python"
    }
  },
  "cells": [
    {
      "cell_type": "code",
      "source": [
        "# First, import the model script\n",
        "!python3 model_.py\n",
        "\n",
        "# Now, you can use the classes defined in the model.py script\n",
        "from model_ import LogisticRegressionModel, RandomForestModel\n",
        "\n",
        "# Load your dataset (replace with your actual dataset path)\n",
        "data_path = 'model_.py'"
      ],
      "metadata": {
        "id": "usNuNDHTpsGV"
      },
      "execution_count": 2,
      "outputs": []
    },
    {
      "cell_type": "markdown",
      "source": [
        "I chose Logistic Regression because it is simple, interpretable, and effective for binary classification tasks like predicting. Its probabilistic output and ability to handle small datasets make it ideal for this project."
      ],
      "metadata": {
        "id": "8CWxb1qaruDd"
      }
    }
  ]
}